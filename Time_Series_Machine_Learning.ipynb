{
  "nbformat": 4,
  "nbformat_minor": 0,
  "metadata": {
    "colab": {
      "name": "SUBMISSIONTime Series - Belajar Pengembangan Machine Learning.ipynb",
      "provenance": [],
      "collapsed_sections": []
    },
    "kernelspec": {
      "display_name": "Python 3",
      "name": "python3"
    },
    "language_info": {
      "name": "python"
    }
  },
  "cells": [
    {
      "cell_type": "markdown",
      "metadata": {
        "id": "WxesYbp6RrNd"
      },
      "source": [
        "# **Maisy Amelia Silvani**\n",
        "\n",
        "---\n",
        "\n",
        "maisyamelia@gmail.com"
      ]
    },
    {
      "cell_type": "code",
      "metadata": {
        "id": "vMplUh663Pav"
      },
      "source": [
        "import pandas as pd\n",
        "import matplotlib.pyplot as plt\n",
        "import tensorflow as tf\n",
        "import numpy as np\n",
        "from keras.layers import Dense, LSTM, Conv1D\n",
        "from datetime import datetime, date"
      ],
      "execution_count": 1,
      "outputs": []
    },
    {
      "cell_type": "code",
      "metadata": {
        "colab": {
          "base_uri": "https://localhost:8080/",
          "height": 419
        },
        "id": "rXMGDeYV3hsC",
        "outputId": "6b49e3de-ea03-4777-d79b-42bc32933bec"
      },
      "source": [
        "df = pd.read_csv(\"/content/FE_hourly.csv\")\n",
        "df"
      ],
      "execution_count": 45,
      "outputs": [
        {
          "output_type": "execute_result",
          "data": {
            "text/html": [
              "<div>\n",
              "<style scoped>\n",
              "    .dataframe tbody tr th:only-of-type {\n",
              "        vertical-align: middle;\n",
              "    }\n",
              "\n",
              "    .dataframe tbody tr th {\n",
              "        vertical-align: top;\n",
              "    }\n",
              "\n",
              "    .dataframe thead th {\n",
              "        text-align: right;\n",
              "    }\n",
              "</style>\n",
              "<table border=\"1\" class=\"dataframe\">\n",
              "  <thead>\n",
              "    <tr style=\"text-align: right;\">\n",
              "      <th></th>\n",
              "      <th>Datetime</th>\n",
              "      <th>FE_MW</th>\n",
              "    </tr>\n",
              "  </thead>\n",
              "  <tbody>\n",
              "    <tr>\n",
              "      <th>0</th>\n",
              "      <td>2011-12-31 01:00:00</td>\n",
              "      <td>6222.0</td>\n",
              "    </tr>\n",
              "    <tr>\n",
              "      <th>1</th>\n",
              "      <td>2011-12-31 02:00:00</td>\n",
              "      <td>5973.0</td>\n",
              "    </tr>\n",
              "    <tr>\n",
              "      <th>2</th>\n",
              "      <td>2011-12-31 03:00:00</td>\n",
              "      <td>5778.0</td>\n",
              "    </tr>\n",
              "    <tr>\n",
              "      <th>3</th>\n",
              "      <td>2011-12-31 04:00:00</td>\n",
              "      <td>5707.0</td>\n",
              "    </tr>\n",
              "    <tr>\n",
              "      <th>4</th>\n",
              "      <td>2011-12-31 05:00:00</td>\n",
              "      <td>5691.0</td>\n",
              "    </tr>\n",
              "    <tr>\n",
              "      <th>...</th>\n",
              "      <td>...</td>\n",
              "      <td>...</td>\n",
              "    </tr>\n",
              "    <tr>\n",
              "      <th>62869</th>\n",
              "      <td>2018-01-01 20:00:00</td>\n",
              "      <td>9378.0</td>\n",
              "    </tr>\n",
              "    <tr>\n",
              "      <th>62870</th>\n",
              "      <td>2018-01-01 21:00:00</td>\n",
              "      <td>9255.0</td>\n",
              "    </tr>\n",
              "    <tr>\n",
              "      <th>62871</th>\n",
              "      <td>2018-01-01 22:00:00</td>\n",
              "      <td>9044.0</td>\n",
              "    </tr>\n",
              "    <tr>\n",
              "      <th>62872</th>\n",
              "      <td>2018-01-01 23:00:00</td>\n",
              "      <td>8676.0</td>\n",
              "    </tr>\n",
              "    <tr>\n",
              "      <th>62873</th>\n",
              "      <td>2018-01-02 00:00:00</td>\n",
              "      <td>8393.0</td>\n",
              "    </tr>\n",
              "  </tbody>\n",
              "</table>\n",
              "<p>62874 rows × 2 columns</p>\n",
              "</div>"
            ],
            "text/plain": [
              "                  Datetime   FE_MW\n",
              "0      2011-12-31 01:00:00  6222.0\n",
              "1      2011-12-31 02:00:00  5973.0\n",
              "2      2011-12-31 03:00:00  5778.0\n",
              "3      2011-12-31 04:00:00  5707.0\n",
              "4      2011-12-31 05:00:00  5691.0\n",
              "...                    ...     ...\n",
              "62869  2018-01-01 20:00:00  9378.0\n",
              "62870  2018-01-01 21:00:00  9255.0\n",
              "62871  2018-01-01 22:00:00  9044.0\n",
              "62872  2018-01-01 23:00:00  8676.0\n",
              "62873  2018-01-02 00:00:00  8393.0\n",
              "\n",
              "[62874 rows x 2 columns]"
            ]
          },
          "metadata": {
            "tags": []
          },
          "execution_count": 45
        }
      ]
    },
    {
      "cell_type": "code",
      "metadata": {
        "colab": {
          "base_uri": "https://localhost:8080/"
        },
        "id": "ORqKhQ7EAUKC",
        "outputId": "9de7e32d-b072-40fb-cfc1-99a9d77a9acc"
      },
      "source": [
        "df.dtypes"
      ],
      "execution_count": 6,
      "outputs": [
        {
          "output_type": "execute_result",
          "data": {
            "text/plain": [
              "Datetime     object\n",
              "FE_MW       float64\n",
              "dtype: object"
            ]
          },
          "metadata": {
            "tags": []
          },
          "execution_count": 6
        }
      ]
    },
    {
      "cell_type": "code",
      "metadata": {
        "colab": {
          "base_uri": "https://localhost:8080/"
        },
        "id": "EISX6FbyA0RW",
        "outputId": "bfcc7290-3916-4fbc-d36d-fab4dccb0310"
      },
      "source": [
        "print(\"Sample size: \", df.shape)"
      ],
      "execution_count": 7,
      "outputs": [
        {
          "output_type": "stream",
          "text": [
            "Sample size:  (62874, 2)\n"
          ],
          "name": "stdout"
        }
      ]
    },
    {
      "cell_type": "code",
      "metadata": {
        "colab": {
          "base_uri": "https://localhost:8080/"
        },
        "id": "EAcHlFsCRdRp",
        "outputId": "fd0058ed-eba6-4d84-af7b-490f9191af33"
      },
      "source": [
        "#Check missing values\n",
        "df.isnull().sum()"
      ],
      "execution_count": 47,
      "outputs": [
        {
          "output_type": "execute_result",
          "data": {
            "text/plain": [
              "Datetime    0\n",
              "FE_MW       0\n",
              "dtype: int64"
            ]
          },
          "metadata": {
            "tags": []
          },
          "execution_count": 47
        }
      ]
    },
    {
      "cell_type": "code",
      "metadata": {
        "colab": {
          "base_uri": "https://localhost:8080/",
          "height": 320
        },
        "id": "2H3ZkC0DA7bR",
        "outputId": "cc7700e9-43ca-47e4-f93b-0ee285b9f729"
      },
      "source": [
        "#Plot the data\n",
        "dates = df[\"Datetime\"].values\n",
        "FE_MW = df[\"FE_MW\"].values\n",
        "plt.figure(figsize = (15, 5))\n",
        "plt.plot(dates, FE_MW)\n",
        "plt.show()"
      ],
      "execution_count": 8,
      "outputs": [
        {
          "output_type": "display_data",
          "data": {
            "image/png": "[encoded data removed]",
            "text/plain": [
              "<Figure size 1080x360 with 1 Axes>"
            ]
          },
          "metadata": {
            "tags": [],
            "needs_background": "light"
          }
        }
      ]
    },
    {
      "cell_type": "code",
      "metadata": {
        "id": "JnYlCZZ8_cNq"
      },
      "source": [
        "from sklearn.model_selection import train_test_split\n",
        "x_train, x_val, y_train, y_val = train_test_split(dates, FE_MW, test_size = 0.2, shuffle = False )"
      ],
      "execution_count": 14,
      "outputs": []
    },
    {
      "cell_type": "code",
      "metadata": {
        "colab": {
          "base_uri": "https://localhost:8080/"
        },
        "id": "paGf8l8WGFnu",
        "outputId": "7a6783e5-f73a-43e4-df60-bac5f31da62d"
      },
      "source": [
        "print('Data train samples: ',len(x_train))\n",
        "print('Data validation samples : ',len(x_val))"
      ],
      "execution_count": 15,
      "outputs": [
        {
          "output_type": "stream",
          "text": [
            "Data train samples:  50299\n",
            "Data validation samples :  12575\n"
          ],
          "name": "stdout"
        }
      ]
    },
    {
      "cell_type": "code",
      "metadata": {
        "colab": {
          "base_uri": "https://localhost:8080/"
        },
        "id": "wC1kR6EeFImB",
        "outputId": "a31d1fd9-80cb-4959-e4f8-8963cda0d6d3"
      },
      "source": [
        "max = df[\"FE_MW\"].max()\n",
        "print('Max value : ', max )"
      ],
      "execution_count": 28,
      "outputs": [
        {
          "output_type": "stream",
          "text": [
            "Max value :  14032.0\n"
          ],
          "name": "stdout"
        }
      ]
    },
    {
      "cell_type": "code",
      "metadata": {
        "colab": {
          "base_uri": "https://localhost:8080/"
        },
        "id": "RxBcHzDGFYwV",
        "outputId": "de7159bb-d66e-4af5-9f60-d0b589f372db"
      },
      "source": [
        "min = df[\"FE_MW\"].min()\n",
        "print('Min value : ', min )"
      ],
      "execution_count": 30,
      "outputs": [
        {
          "output_type": "stream",
          "text": [
            "Min value :  0.0\n"
          ],
          "name": "stdout"
        }
      ]
    },
    {
      "cell_type": "code",
      "metadata": {
        "colab": {
          "base_uri": "https://localhost:8080/"
        },
        "id": "ElEnbCksFfR5",
        "outputId": "03989501-c052-4a3a-e929-9e3da1954a6c"
      },
      "source": [
        "k = (max-min) * (10/100)\n",
        "k"
      ],
      "execution_count": 31,
      "outputs": [
        {
          "output_type": "execute_result",
          "data": {
            "text/plain": [
              "1403.2"
            ]
          },
          "metadata": {
            "tags": []
          },
          "execution_count": 31
        }
      ]
    },
    {
      "cell_type": "code",
      "metadata": {
        "id": "W9AVgfjD63EI"
      },
      "source": [
        "def windowed_dataset(series, window_size, batch_size, shuffle_buffer):\n",
        "    series = tf.expand_dims(series, axis=-1)\n",
        "    ds = tf.data.Dataset.from_tensor_slices(series)\n",
        "    ds = ds.window(window_size + 1, shift=1, drop_remainder=True)\n",
        "    ds = ds.flat_map(lambda w: w.batch(window_size + 1))\n",
        "    ds = ds.shuffle(shuffle_buffer)\n",
        "    ds = ds.map(lambda w: (w[:-1], w[-1:]))\n",
        "    return ds.batch(batch_size).prefetch(1)"
      ],
      "execution_count": 16,
      "outputs": []
    },
    {
      "cell_type": "code",
      "metadata": {
        "id": "WtHS8ikD8sAn"
      },
      "source": [
        "from tensorflow.keras.layers import LSTM,Dense,Bidirectional,Dropout\n",
        "tf.keras.backend.set_floatx('float64')\n",
        "\n",
        "train_set = windowed_dataset(FE_MW, window_size=60, batch_size=100, shuffle_buffer=1000)\n",
        "val_set = windowed_dataset(y_val, window_size=60, batch_size=100, shuffle_buffer=1000)\n",
        "model = tf.keras.models.Sequential([\n",
        "                tf.keras.layers.Conv1D(filters=32, kernel_size=5,\n",
        "                strides=1, padding=\"causal\",\n",
        "                activation=\"relu\",\n",
        "                input_shape=[None, 1]),\n",
        "    Bidirectional(LSTM(60, return_sequences=True)),\n",
        "    Bidirectional(LSTM(60)),\n",
        "    Dense(30, activation=\"relu\"),\n",
        "    Dense(1)\n",
        "])"
      ],
      "execution_count": 36,
      "outputs": []
    },
    {
      "cell_type": "code",
      "metadata": {
        "id": "LvUwO76KFjgA"
      },
      "source": [
        "#Using Callbacks\n",
        "class myCallback(tf.keras.callbacks.Callback):\n",
        "  def on_epoch_end(self, epoch, logs={}):\n",
        "   if(logs.get('mae')<k and logs.get('val_mae')<k):\n",
        "        print(\"MAE < 10% of the datasize, stop training!\")\n",
        "        self.model.stop_training = True\n",
        "callbacks = myCallback()"
      ],
      "execution_count": 37,
      "outputs": []
    },
    {
      "cell_type": "code",
      "metadata": {
        "colab": {
          "base_uri": "https://localhost:8080/"
        },
        "id": "OP_x51f5G5Mb",
        "outputId": "69c0ad9f-4de9-4644-b149-b718c38acdc0"
      },
      "source": [
        "optimizer = tf.keras.optimizers.SGD(learning_rate=1.0000e-04, momentum=0.9)\n",
        "model.compile(loss=tf.keras.losses.Huber(),\n",
        "              optimizer=optimizer,\n",
        "              metrics=[\"mae\"])\n",
        "train_size = len(x_train)\n",
        "val_size = len(x_val)\n",
        "history = model.fit(train_set, \n",
        "                    validation_data=val_set, \n",
        "                    steps_per_epoch=30, \n",
        "                    validation_steps=30, \n",
        "                    epochs=100, \n",
        "                    callbacks=[callbacks])"
      ],
      "execution_count": 44,
      "outputs": [
        {
          "output_type": "stream",
          "text": [
            "Epoch 1/100\n",
            "30/30 [==============================] - 76s 2s/step - loss: 7121.0691 - mae: 7121.5692 - val_loss: 6626.9671 - val_mae: 6627.4670\n",
            "Epoch 2/100\n",
            "30/30 [==============================] - 68s 2s/step - loss: 6579.1974 - mae: 6579.6974 - val_loss: 5921.5669 - val_mae: 5922.0670\n",
            "Epoch 3/100\n",
            "30/30 [==============================] - 70s 2s/step - loss: 5655.8556 - mae: 5656.3556 - val_loss: 4587.4826 - val_mae: 4587.9825\n",
            "Epoch 4/100\n",
            "30/30 [==============================] - 69s 2s/step - loss: 3776.7779 - mae: 3777.2778 - val_loss: 2190.5997 - val_mae: 2191.0998\n",
            "Epoch 5/100\n",
            "30/30 [==============================] - 69s 2s/step - loss: 1392.3788 - mae: 1392.8787 - val_loss: 1134.6704 - val_mae: 1135.1703\n",
            "MAE < 10% of the datasize, stop training!\n"
          ],
          "name": "stdout"
        }
      ]
    }
  ]
}
