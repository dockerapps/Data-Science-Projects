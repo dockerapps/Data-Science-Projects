{
  "nbformat": 4,
  "nbformat_minor": 0,
  "metadata": {
    "colab": {
      "name": "4. NLP emotion in text.ipynb",
      "provenance": [],
      "collapsed_sections": []
    },
    "kernelspec": {
      "name": "python3",
      "display_name": "Python 3"
    },
    "language_info": {
      "name": "python"
    }
  },
  "cells": [
    {
      "cell_type": "markdown",
      "metadata": {
        "id": "89amVgzo4V7k"
      },
      "source": [
        "# **NLP Dataset Emotion in Text**\n"
      ]
    },
    {
      "cell_type": "code",
      "metadata": {
        "colab": {
          "base_uri": "https://localhost:8080/",
          "height": 422
        },
        "id": "mjQ3bC2PhGBz",
        "outputId": "e258e3d7-8662-456a-ef71-b55d93aa663a"
      },
      "source": [
        "import pandas as pd\n",
        "import numpy as np\n",
        "import tensorflow as tf\n",
        "\n",
        "df = pd.read_csv(\"/content/Emotion_final.csv\")\n",
        "df"
      ],
      "execution_count": 51,
      "outputs": [
        {
          "output_type": "execute_result",
          "data": {
            "text/html": [
              "<div>\n",
              "<style scoped>\n",
              "    .dataframe tbody tr th:only-of-type {\n",
              "        vertical-align: middle;\n",
              "    }\n",
              "\n",
              "    .dataframe tbody tr th {\n",
              "        vertical-align: top;\n",
              "    }\n",
              "\n",
              "    .dataframe thead th {\n",
              "        text-align: right;\n",
              "    }\n",
              "</style>\n",
              "<table border=\"1\" class=\"dataframe\">\n",
              "  <thead>\n",
              "    <tr style=\"text-align: right;\">\n",
              "      <th></th>\n",
              "      <th>Text</th>\n",
              "      <th>Emotion</th>\n",
              "    </tr>\n",
              "  </thead>\n",
              "  <tbody>\n",
              "    <tr>\n",
              "      <th>0</th>\n",
              "      <td>i didnt feel humiliated</td>\n",
              "      <td>sadness</td>\n",
              "    </tr>\n",
              "    <tr>\n",
              "      <th>1</th>\n",
              "      <td>i can go from feeling so hopeless to so damned...</td>\n",
              "      <td>sadness</td>\n",
              "    </tr>\n",
              "    <tr>\n",
              "      <th>2</th>\n",
              "      <td>im grabbing a minute to post i feel greedy wrong</td>\n",
              "      <td>anger</td>\n",
              "    </tr>\n",
              "    <tr>\n",
              "      <th>3</th>\n",
              "      <td>i am ever feeling nostalgic about the fireplac...</td>\n",
              "      <td>love</td>\n",
              "    </tr>\n",
              "    <tr>\n",
              "      <th>4</th>\n",
              "      <td>i am feeling grouchy</td>\n",
              "      <td>anger</td>\n",
              "    </tr>\n",
              "    <tr>\n",
              "      <th>...</th>\n",
              "      <td>...</td>\n",
              "      <td>...</td>\n",
              "    </tr>\n",
              "    <tr>\n",
              "      <th>21454</th>\n",
              "      <td>Melissa stared at her friend in dism</td>\n",
              "      <td>fear</td>\n",
              "    </tr>\n",
              "    <tr>\n",
              "      <th>21455</th>\n",
              "      <td>Successive state elections have seen the gover...</td>\n",
              "      <td>fear</td>\n",
              "    </tr>\n",
              "    <tr>\n",
              "      <th>21456</th>\n",
              "      <td>Vincent was irritated but not dismay</td>\n",
              "      <td>fear</td>\n",
              "    </tr>\n",
              "    <tr>\n",
              "      <th>21457</th>\n",
              "      <td>Kendall-Hume turned back to face the dismayed ...</td>\n",
              "      <td>fear</td>\n",
              "    </tr>\n",
              "    <tr>\n",
              "      <th>21458</th>\n",
              "      <td>I am dismayed , but not surpris</td>\n",
              "      <td>fear</td>\n",
              "    </tr>\n",
              "  </tbody>\n",
              "</table>\n",
              "<p>21459 rows × 2 columns</p>\n",
              "</div>"
            ],
            "text/plain": [
              "                                                    Text  Emotion\n",
              "0                                i didnt feel humiliated  sadness\n",
              "1      i can go from feeling so hopeless to so damned...  sadness\n",
              "2       im grabbing a minute to post i feel greedy wrong    anger\n",
              "3      i am ever feeling nostalgic about the fireplac...     love\n",
              "4                                   i am feeling grouchy    anger\n",
              "...                                                  ...      ...\n",
              "21454               Melissa stared at her friend in dism     fear\n",
              "21455  Successive state elections have seen the gover...     fear\n",
              "21456               Vincent was irritated but not dismay     fear\n",
              "21457  Kendall-Hume turned back to face the dismayed ...     fear\n",
              "21458                    I am dismayed , but not surpris     fear\n",
              "\n",
              "[21459 rows x 2 columns]"
            ]
          },
          "metadata": {
            "tags": []
          },
          "execution_count": 51
        }
      ]
    },
    {
      "cell_type": "code",
      "metadata": {
        "colab": {
          "base_uri": "https://localhost:8080/"
        },
        "id": "mzBkCygIn0I2",
        "outputId": "4d230200-5264-464e-bbd6-0cbe99ae47a4"
      },
      "source": [
        "print(\"data size = \", df.shape)"
      ],
      "execution_count": 15,
      "outputs": [
        {
          "output_type": "stream",
          "text": [
            "data size =  (21459, 2)\n"
          ],
          "name": "stdout"
        }
      ]
    },
    {
      "cell_type": "code",
      "metadata": {
        "colab": {
          "base_uri": "https://localhost:8080/",
          "height": 205
        },
        "id": "KSJWujkEnqrw",
        "outputId": "f023904b-f649-4a92-e142-2260a109535e"
      },
      "source": [
        "#convert df to numpy array\n",
        "df_cat = pd.get_dummies(df[\"Emotion\"])\n",
        "df_new = pd.concat([df, df_cat], axis = 1)\n",
        "df_new.drop(columns=\"Emotion\", inplace=True)\n",
        "df_new.head()"
      ],
      "execution_count": 16,
      "outputs": [
        {
          "output_type": "execute_result",
          "data": {
            "text/html": [
              "<div>\n",
              "<style scoped>\n",
              "    .dataframe tbody tr th:only-of-type {\n",
              "        vertical-align: middle;\n",
              "    }\n",
              "\n",
              "    .dataframe tbody tr th {\n",
              "        vertical-align: top;\n",
              "    }\n",
              "\n",
              "    .dataframe thead th {\n",
              "        text-align: right;\n",
              "    }\n",
              "</style>\n",
              "<table border=\"1\" class=\"dataframe\">\n",
              "  <thead>\n",
              "    <tr style=\"text-align: right;\">\n",
              "      <th></th>\n",
              "      <th>Text</th>\n",
              "      <th>anger</th>\n",
              "      <th>fear</th>\n",
              "      <th>happy</th>\n",
              "      <th>love</th>\n",
              "      <th>sadness</th>\n",
              "      <th>surprise</th>\n",
              "    </tr>\n",
              "  </thead>\n",
              "  <tbody>\n",
              "    <tr>\n",
              "      <th>0</th>\n",
              "      <td>i didnt feel humiliated</td>\n",
              "      <td>0</td>\n",
              "      <td>0</td>\n",
              "      <td>0</td>\n",
              "      <td>0</td>\n",
              "      <td>1</td>\n",
              "      <td>0</td>\n",
              "    </tr>\n",
              "    <tr>\n",
              "      <th>1</th>\n",
              "      <td>i can go from feeling so hopeless to so damned...</td>\n",
              "      <td>0</td>\n",
              "      <td>0</td>\n",
              "      <td>0</td>\n",
              "      <td>0</td>\n",
              "      <td>1</td>\n",
              "      <td>0</td>\n",
              "    </tr>\n",
              "    <tr>\n",
              "      <th>2</th>\n",
              "      <td>im grabbing a minute to post i feel greedy wrong</td>\n",
              "      <td>1</td>\n",
              "      <td>0</td>\n",
              "      <td>0</td>\n",
              "      <td>0</td>\n",
              "      <td>0</td>\n",
              "      <td>0</td>\n",
              "    </tr>\n",
              "    <tr>\n",
              "      <th>3</th>\n",
              "      <td>i am ever feeling nostalgic about the fireplac...</td>\n",
              "      <td>0</td>\n",
              "      <td>0</td>\n",
              "      <td>0</td>\n",
              "      <td>1</td>\n",
              "      <td>0</td>\n",
              "      <td>0</td>\n",
              "    </tr>\n",
              "    <tr>\n",
              "      <th>4</th>\n",
              "      <td>i am feeling grouchy</td>\n",
              "      <td>1</td>\n",
              "      <td>0</td>\n",
              "      <td>0</td>\n",
              "      <td>0</td>\n",
              "      <td>0</td>\n",
              "      <td>0</td>\n",
              "    </tr>\n",
              "  </tbody>\n",
              "</table>\n",
              "</div>"
            ],
            "text/plain": [
              "                                                Text  anger  ...  sadness  surprise\n",
              "0                            i didnt feel humiliated      0  ...        1         0\n",
              "1  i can go from feeling so hopeless to so damned...      0  ...        1         0\n",
              "2   im grabbing a minute to post i feel greedy wrong      1  ...        0         0\n",
              "3  i am ever feeling nostalgic about the fireplac...      0  ...        0         0\n",
              "4                               i am feeling grouchy      1  ...        0         0\n",
              "\n",
              "[5 rows x 7 columns]"
            ]
          },
          "metadata": {
            "tags": []
          },
          "execution_count": 16
        }
      ]
    },
    {
      "cell_type": "code",
      "metadata": {
        "colab": {
          "base_uri": "https://localhost:8080/"
        },
        "id": "ApG4MvPWpQxh",
        "outputId": "f8c69909-1561-4846-949c-fd53373e255b"
      },
      "source": [
        "text = df_new[\"Text\"].values\n",
        "label = df_new[[\"anger\", \"fear\", \"happy\", \"love\", \"sadness\", \"surprise\"]].values\n",
        "print(text.shape)\n",
        "print(label.shape)"
      ],
      "execution_count": 24,
      "outputs": [
        {
          "output_type": "stream",
          "text": [
            "(21459,)\n",
            "(21459, 6)\n"
          ],
          "name": "stdout"
        }
      ]
    },
    {
      "cell_type": "code",
      "metadata": {
        "id": "VqveF2ATqwlF"
      },
      "source": [
        "#train test split\n",
        "from sklearn.model_selection import train_test_split\n",
        "text_train, text_test, label_train, label_test = train_test_split(text, label, test_size = 0.2)"
      ],
      "execution_count": 26,
      "outputs": []
    },
    {
      "cell_type": "code",
      "metadata": {
        "id": "sJIhB87JrOCe"
      },
      "source": [
        "#Tokenization\n",
        "from tensorflow.keras.preprocessing.text import Tokenizer\n",
        "from tensorflow.keras.preprocessing.sequence import pad_sequences #for the same length sequences\n",
        "\n",
        "tokenizer = Tokenizer(num_words=5000, oov_token=\"-\")\n",
        "tokenizer.fit_on_texts(text_train) \n",
        "tokenizer.fit_on_texts(text_test)\n",
        "\n",
        "sequence_train = tokenizer.texts_to_sequences(text_train)\n",
        "sequence_test = tokenizer.texts_to_sequences(text_test)\n",
        "\n",
        "padded_train = pad_sequences(sequence_train)\n",
        "padded_test = pad_sequences(sequence_test)\n"
      ],
      "execution_count": 66,
      "outputs": []
    },
    {
      "cell_type": "code",
      "metadata": {
        "id": "JUZLW5sEviEc"
      },
      "source": [
        "import tensorflow as tf\n",
        "model = tf.keras.Sequential([\n",
        "      tf.keras.layers.Embedding(input_dim = 5000, output_dim=16),\n",
        "      tf.keras.layers.LSTM(64),\n",
        "      tf.keras.layers.Dense(128, activation=\"relu\"),\n",
        "      tf.keras.layers.Dense(64, activation=\"relu\"),\n",
        "      tf.keras.layers.Dense(6, activation=\"softmax\")\n",
        "])\n",
        "#compile model\n",
        "model.compile(loss = \"categorical_crossentropy\", optimizer=\"adam\", metrics=[\"accuracy\"])"
      ],
      "execution_count": 67,
      "outputs": []
    },
    {
      "cell_type": "code",
      "metadata": {
        "id": "ljtpTTiYzy2H"
      },
      "source": [
        "#Using Callbacks\n",
        "class myCallback(tf.keras.callbacks.Callback):\n",
        "  def on_epoch_end(self, epoch, logs={}):\n",
        "    if(logs.get(\"accuracy\")>0.9 and logs.get(\"val_accuracy\")>0.9):\n",
        "      print(\"Accuracy reach 90% or above. Stop training!\")\n",
        "      self.model.stop_training = True\n",
        "callbacks = myCallback()"
      ],
      "execution_count": 68,
      "outputs": []
    },
    {
      "cell_type": "code",
      "metadata": {
        "colab": {
          "base_uri": "https://localhost:8080/"
        },
        "id": "R2Du2chZwnw_",
        "outputId": "3c11d472-fc1e-4372-cd3c-d4ba5e04db9d"
      },
      "source": [
        "#Train the model\n",
        "history = model.fit(padded_train, label_train, epochs = 30, callbacks = [callbacks], validation_data = (padded_test, label_test), verbose = 2)"
      ],
      "execution_count": 69,
      "outputs": [
        {
          "output_type": "stream",
          "text": [
            "Epoch 1/30\n",
            "537/537 - 20s - loss: 1.3642 - accuracy: 0.4252 - val_loss: 0.8952 - val_accuracy: 0.6503\n",
            "Epoch 2/30\n",
            "537/537 - 17s - loss: 0.5975 - accuracy: 0.7793 - val_loss: 0.5072 - val_accuracy: 0.8299\n",
            "Epoch 3/30\n",
            "537/537 - 17s - loss: 0.3307 - accuracy: 0.8877 - val_loss: 0.4228 - val_accuracy: 0.8555\n",
            "Epoch 4/30\n",
            "537/537 - 17s - loss: 0.2425 - accuracy: 0.9183 - val_loss: 0.4001 - val_accuracy: 0.8728\n",
            "Epoch 5/30\n",
            "537/537 - 17s - loss: 0.1746 - accuracy: 0.9417 - val_loss: 0.3903 - val_accuracy: 0.8747\n",
            "Epoch 6/30\n",
            "537/537 - 17s - loss: 0.1390 - accuracy: 0.9526 - val_loss: 0.3445 - val_accuracy: 0.8956\n",
            "Epoch 7/30\n",
            "537/537 - 17s - loss: 0.1070 - accuracy: 0.9641 - val_loss: 0.3512 - val_accuracy: 0.8963\n",
            "Epoch 8/30\n",
            "537/537 - 17s - loss: 0.0945 - accuracy: 0.9685 - val_loss: 0.3474 - val_accuracy: 0.8993\n",
            "Epoch 9/30\n",
            "537/537 - 17s - loss: 0.0783 - accuracy: 0.9724 - val_loss: 0.3642 - val_accuracy: 0.8970\n",
            "Epoch 10/30\n",
            "537/537 - 18s - loss: 0.0720 - accuracy: 0.9748 - val_loss: 0.3935 - val_accuracy: 0.8942\n",
            "Epoch 11/30\n",
            "537/537 - 17s - loss: 0.0591 - accuracy: 0.9800 - val_loss: 0.3747 - val_accuracy: 0.9026\n",
            "Accuracy reach 90% or above. Stop training!\n"
          ],
          "name": "stdout"
        }
      ]
    },
    {
      "cell_type": "code",
      "metadata": {
        "colab": {
          "base_uri": "https://localhost:8080/",
          "height": 573
        },
        "id": "8C3n0erC6muI",
        "outputId": "13f3ad1d-df01-41de-cb10-9189618f44ea"
      },
      "source": [
        "#Accuracy plot\n",
        "import matplotlib.pyplot as plt\n",
        "plt.plot(history.history[\"accuracy\"])\n",
        "plt.plot(history.history[\"val_accuracy\"])\n",
        "plt.title(\"Model Accuracy\")\n",
        "plt.xlabel(\"Epochs\")\n",
        "plt.ylabel(\"Accuracy\")\n",
        "plt.legend([\"train\", \"test\"], loc=\"upper left\")\n",
        "plt.show()\n",
        "\n",
        "#Loss plot\n",
        "import matplotlib.pyplot as plt\n",
        "plt.plot(history.history[\"loss\"])\n",
        "plt.plot(history.history[\"val_loss\"])\n",
        "plt.legend([\"train\", \"test\"], loc=\"upper left\")\n",
        "plt.title(\"Model Loss\")\n",
        "plt.xlabel(\"Epochs\")\n",
        "plt.ylabel(\"Loss\")\n",
        "plt.show()"
      ],
      "execution_count": 70,
      "outputs": [
        {
          "output_type": "display_data",
          "data": {
            "image/png": "[encoded data removed]",
            "text/plain": [
              "<Figure size 432x288 with 1 Axes>"
            ]
          },
          "metadata": {
            "tags": [],
            "needs_background": "light"
          }
        },
        {
          "output_type": "display_data",
          "data": {
            "image/png": "[encoded data removed]",
            "text/plain": [
              "<Figure size 432x288 with 1 Axes>"
            ]
          },
          "metadata": {
            "tags": [],
            "needs_background": "light"
          }
        }
      ]
    }
  ]
}