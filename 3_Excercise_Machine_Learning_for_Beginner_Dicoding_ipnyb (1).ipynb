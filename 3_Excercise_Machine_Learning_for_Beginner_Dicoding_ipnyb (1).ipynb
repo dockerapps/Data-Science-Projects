{
  "nbformat": 4,
  "nbformat_minor": 0,
  "metadata": {
    "colab": {
      "name": "3. Excercise - Machine Learning for Beginner - Dicoding.ipnyb",
      "provenance": [],
      "collapsed_sections": []
    },
    "kernelspec": {
      "display_name": "Python 3",
      "name": "python3"
    },
    "language_info": {
      "name": "python"
    }
  },
  "cells": [
    {
      "cell_type": "markdown",
      "metadata": {
        "id": "5vj_eaxKPhVr"
      },
      "source": [
        "# **2. Latihan Train Test Split Data**"
      ]
    },
    {
      "cell_type": "markdown",
      "metadata": {
        "id": "XH7YMz_IRh7H"
      },
      "source": [
        "**Yang di contoh**:"
      ]
    },
    {
      "cell_type": "code",
      "metadata": {
        "colab": {
          "base_uri": "https://localhost:8080/"
        },
        "id": "OHSPxI1bQLn3",
        "outputId": "1a017861-15b9-43f6-ccd3-ef5ac584627a"
      },
      "source": [
        "from sklearn.model_selection import train_test_split\n",
        "\n",
        "x_data = range(10)\n",
        "y_data = range(10)\n",
        "\n",
        "print(\"Jika random_state = 42\")\n",
        "x_train, x_test, y_train, y_test = train_test_split(x_data, y_data, test_size = 0.3, random_state = 42)\n",
        "for i in range(3):\n",
        "  print(y_test)\n",
        "\n",
        "print(\"Jika random_state = None\")\n",
        "x_train, x_test, y_train, y_test = train_test_split(x_data, y_data, test_size = 0.3, random_state = None)\n",
        "for i in range(3):\n",
        "  print(y_test)\n"
      ],
      "execution_count": null,
      "outputs": [
        {
          "output_type": "stream",
          "text": [
            "Jika random_state = 42\n",
            "[8, 1, 5]\n",
            "[8, 1, 5]\n",
            "[8, 1, 5]\n",
            "Jika random_state = None\n",
            "[1, 8, 6]\n",
            "[1, 8, 6]\n",
            "[1, 8, 6]\n"
          ],
          "name": "stdout"
        }
      ]
    },
    {
      "cell_type": "markdown",
      "metadata": {
        "id": "ps_jXhsrRmkf"
      },
      "source": [
        "**Yang di latihan** : Klasifikasi bunga iris apakah termasuk Setosa, Versicolour, Virginica, dari iris dataset berdasarkan panjang & lebar sepal, serta panjang & lebar petal.\n"
      ]
    },
    {
      "cell_type": "code",
      "metadata": {
        "colab": {
          "base_uri": "https://localhost:8080/"
        },
        "id": "pZXm4gIURow7",
        "outputId": "d8320131-4680-4613-efee-4f7ef26f6fec"
      },
      "source": [
        "import sklearn\n",
        "from sklearn import datasets\n",
        "iris = datasets.load_iris()\n",
        "x = iris.data #atribut iris dataset (sepal length, sepal width, petal length, petal width)\n",
        "y = iris.target #Klasifikasi iris setosa, versicolour, virginica\n",
        "\n",
        "from sklearn.model_selection import train_test_split\n",
        "x_train, x_test, y_train, y_test = train_test_split(x, y, test_size = 0.2, random_state = 42)\n",
        "\n",
        "#hitung jumlah data x_test\n",
        "print(len(x_test))\n",
        "print(\"Jumlah x_test adalah 30 sampel dari 150 populasi. Sudah memenuhi proporsi test_size = 0.2. Siap diolah untuk pelatihan model machine learning!\")\n",
        "\n"
      ],
      "execution_count": null,
      "outputs": [
        {
          "output_type": "stream",
          "text": [
            "30\n",
            "Jumlah x_test adalah 30 sampel dari 150 populasi. Sudah memenuhi proporsi test_size = 0.2. Siap diolah untuk pelatihan model machine learning!\n"
          ],
          "name": "stdout"
        }
      ]
    },
    {
      "cell_type": "markdown",
      "metadata": {
        "id": "uPmr7GALakNV"
      },
      "source": [
        "# **3. Latihan SKLearn Cross Valdiation Split**"
      ]
    },
    {
      "cell_type": "code",
      "metadata": {
        "colab": {
          "base_uri": "https://localhost:8080/"
        },
        "id": "0uBzuf4nawDC",
        "outputId": "df3dbc82-a65b-4775-a71b-2f2374502950"
      },
      "source": [
        "import sklearn\n",
        "from sklearn import datasets\n",
        "\n",
        "#Load Iris Dataset\n",
        "iris = datasets.load_iris()\n",
        "x = iris.data #Atribut/karakter sampel uji\n",
        "y = iris.target #target klasifikasi\n",
        "\n",
        "#membuat model decision tree classifier\n",
        "from sklearn import tree\n",
        "clf = tree.DecisionTreeClassifier()\n",
        "\n",
        "from sklearn.model_selection import cross_val_score\n",
        "scores = cross_val_score(clf, x, y, cv=5)\n",
        "scores"
      ],
      "execution_count": null,
      "outputs": [
        {
          "output_type": "execute_result",
          "data": {
            "text/plain": [
              "array([0.96666667, 0.96666667, 0.9       , 0.96666667, 1.        ])"
            ]
          },
          "metadata": {
            "tags": []
          },
          "execution_count": 9
        }
      ]
    },
    {
      "cell_type": "markdown",
      "metadata": {
        "id": "lV7WTYHfdhQT"
      },
      "source": [
        "Elemen pertama dari larik menunjukkan nilai 0.96666 yang berarti ketika fold pertama dijadikan validation set dan fold lainnya dijadikan train set, hasil dari pengujian tersebut adalah akurasi sebesar 0.96666. \n",
        "\n",
        "Melihat akurasi dari seluruh pengujian fold yang memiliki nilai tinggi dan konsisten pada tiap fold, kita mendapatkan gambaran bahwa model kita memiliki performa yang sangat baik.\n",
        "\n",
        "Secara umum jika hasil dari pengujian tiap fold pada cross validation memiliki nilai yang bervariasi dari 0.85 sampai 0.99, maka model tersebut dapat dikatakan baik. **Nilai cross validation disini sama dengan R square.**"
      ]
    },
    {
      "cell_type": "markdown",
      "metadata": {
        "id": "uCVJy8D7kDV2"
      },
      "source": [
        "# **4. Latihan Decision Tree**"
      ]
    },
    {
      "cell_type": "code",
      "metadata": {
        "colab": {
          "base_uri": "https://localhost:8080/"
        },
        "id": "ev5mgzvhkIXQ",
        "outputId": "06187207-1ecb-4c78-9a82-a9eda5ba6379"
      },
      "source": [
        "import pandas as pd\n",
        "from sklearn.datasets import load_iris\n",
        "\n",
        "#Read iris dataframe\n",
        "iris = pd.read_csv(\"/content/Iris.csv\")\n",
        "\n",
        "#Kemudian hapus kolom Id\n",
        "iris.drop(columns=\"Id\", axis=1, inplace=True)\n",
        "\n",
        "#Tentukan atribut dan label\n",
        "x = iris[[\"SepalLengthCm\", \"SepalWidthCm\", \"PetalLengthCm\", \"PetalWidthCm\"]]\n",
        "y = iris[\"Species\"]\n",
        "\n",
        "#train model decision tree dengan fungsi fit()\n",
        "from sklearn.tree import DecisionTreeClassifier\n",
        "tree_model = DecisionTreeClassifier()\n",
        "tree_model.fit(x, y)\n",
        "\n",
        "#prediksi model iris with SepalLength = 6.2, SepalWidth = 3.4, PetalLength = 5.4, PetalWidth = 2.3\n",
        "tree_model.predict([[6.2, 3.4, 5.4, 2.3]])"
      ],
      "execution_count": null,
      "outputs": [
        {
          "output_type": "execute_result",
          "data": {
            "text/plain": [
              "array(['Iris-virginica'], dtype=object)"
            ]
          },
          "metadata": {
            "tags": []
          },
          "execution_count": 2
        }
      ]
    },
    {
      "cell_type": "code",
      "metadata": {
        "colab": {
          "base_uri": "https://localhost:8080/"
        },
        "id": "72849PRRkJki",
        "outputId": "8c97900b-2d17-4ad9-83df-fd36cbded87c"
      },
      "source": [
        "iris.info()"
      ],
      "execution_count": null,
      "outputs": [
        {
          "output_type": "stream",
          "text": [
            "<class 'pandas.core.frame.DataFrame'>\n",
            "RangeIndex: 150 entries, 0 to 149\n",
            "Data columns (total 5 columns):\n",
            " #   Column         Non-Null Count  Dtype  \n",
            "---  ------         --------------  -----  \n",
            " 0   SepalLengthCm  150 non-null    float64\n",
            " 1   SepalWidthCm   150 non-null    float64\n",
            " 2   PetalLengthCm  150 non-null    float64\n",
            " 3   PetalWidthCm   150 non-null    float64\n",
            " 4   Species        150 non-null    object \n",
            "dtypes: float64(4), object(1)\n",
            "memory usage: 6.0+ KB\n"
          ],
          "name": "stdout"
        }
      ]
    },
    {
      "cell_type": "markdown",
      "metadata": {
        "id": "PDBflob-FQAL"
      },
      "source": [
        "**Visualisasi Decision Tree Dengan Library Graphviz**"
      ]
    },
    {
      "cell_type": "code",
      "metadata": {
        "id": "mH7dbR6UFZ6s"
      },
      "source": [
        "from sklearn.tree import export_graphviz\n",
        "export_graphviz(\n",
        "    tree_model, \n",
        "    out_file = \"iris_tree.dot\", \n",
        "    feature_names = ['SepalLengthCm', 'SepalWidthCm', 'PetalLengthCm', 'PetalWidthCm'], \n",
        "    class_names = ['Iris-setosa', 'Iris-versicolor', 'Iris-virginica'],\n",
        "    rounded = True, \n",
        "    filled = True\n",
        ")"
      ],
      "execution_count": null,
      "outputs": []
    },
    {
      "cell_type": "markdown",
      "metadata": {
        "id": "tbh60-PrKQUV"
      },
      "source": [
        "Setelah itu download file iris_tree.dot yang ada di direktori di menu bar samping kiri, lalu convert as png di https://onlineconvertfree.com/complete/dot-png/ untuk lihat gambarnya"
      ]
    },
    {
      "cell_type": "markdown",
      "metadata": {
        "id": "vH024lvYKb5-"
      },
      "source": [
        "# **5. Latihan Linear Regression**"
      ]
    },
    {
      "cell_type": "code",
      "metadata": {
        "colab": {
          "base_uri": "https://localhost:8080/",
          "height": 283
        },
        "id": "OWIXa6o3FNjJ",
        "outputId": "c543f0df-1a31-46b6-fa91-1d8fd832531b"
      },
      "source": [
        "import numpy as np\n",
        "\n",
        "#buat data jumlah kamar\n",
        "bedrooms = np.array([1, 1, 2, 2, 3, 4, 4, 5, 5, 5])\n",
        "\n",
        "#data harga rumah asumsi dalam dollar\n",
        "house_price = np.array([15000, 18000, 27000, 34000, 50000, 68000, 65000, 81000,85000, 90000])\n",
        "\n",
        "#buat scatter plot\n",
        "import matplotlib.pyplot as plt\n",
        "%matplotlib inline\n",
        "plt.scatter(bedrooms, house_price)\n",
        "\n",
        "#Latih model dengan regression fit()\n",
        "bedrooms = bedrooms.reshape(-1, 1)\n",
        "linreg = LinearRegression()\n",
        "linreg.fit(bedrooms, house_price)\n",
        "\n",
        "plt.scatter(bedrooms, house_price)\n",
        "plt.plot(bedrooms, linreg.predict(bedrooms))"
      ],
      "execution_count": null,
      "outputs": [
        {
          "output_type": "execute_result",
          "data": {
            "text/plain": [
              "[<matplotlib.lines.Line2D at 0x7f15801b4ed0>]"
            ]
          },
          "metadata": {
            "tags": []
          },
          "execution_count": 28
        },
        {
          "output_type": "display_data",
          "data": {
            "image/png": "[encoded data removed]",
            "text/plain": [
              "<Figure size 432x288 with 1 Axes>"
            ]
          },
          "metadata": {
            "tags": []
          }
        }
      ]
    },
    {
      "cell_type": "markdown",
      "metadata": {
        "id": "25DzyA6MPSmm"
      },
      "source": [
        "# **Lathan Logistic Regression**"
      ]
    },
    {
      "cell_type": "code",
      "metadata": {
        "colab": {
          "base_uri": "https://localhost:8080/"
        },
        "id": "ZJ-bydAvPW1v",
        "outputId": "bd81cd9e-5285-477d-e70e-eb7749598f0e"
      },
      "source": [
        "import pandas as pd\n",
        "\n",
        "df = pd.read_csv(\"/content/Social_Network_Ads.csv\")\n",
        "\n",
        "\n",
        "#cek bahwa nilai seluruh dataframe sudah lengkap & tidak ada missing values\n",
        "df.info()\n",
        "print(\"alhamdulillah, gaada missing value guys\")\n",
        "\n",
        "#hilangkan kolom UserId\n",
        "df.drop(columns = \"User ID\", axis = 1, inplace = True)\n",
        "df2 = pd.get_dummies(data = df)\n",
        "\n",
        "#Pisahkan atribut(x) dan label(y)\n",
        "x = df2[[\"Age\", \"EstimatedSalary\", \"Gender_Male\", \"Gender_Female\"]]\n",
        "y = df2[\"Purchased\"]\n",
        "\n",
        "#Normalisasi data \n",
        "from sklearn.preprocessing import MinMaxScaler\n",
        "scaler = MinMaxScaler()\n",
        "scaler.fit(x)\n",
        "scaled_data = scaler.transform(x)\n",
        "scaled_data = pd.DataFrame(scaled_data, columns = x.columns)\n",
        "\n",
        "#Split data training dan data testing\n",
        "from sklearn.model_selection import train_test_split\n",
        "x_train, x_test, y_train, y_test = train_test_split(scaled_data, y, test_size = 0.2, random_state = 1)\n",
        "#NOTE : yang displit adalah scaled_data (x yang sudah dinormalisasi) dengan y\n",
        "\n",
        "#Train model \n",
        "from sklearn.linear_model import LogisticRegression\n",
        "model = LogisticRegression() #model sebagai sebuah objek logistic regression\n",
        "model.fit(x_train, y_train)\n",
        "\n",
        "#Uji akurasi dengan fungsi score() pada model\n",
        "print(\"akurasi model reglog : \")\n",
        "from sklearn.preprocessing import StandardScaler\n",
        "model.score(x_test, y_test)"
      ],
      "execution_count": null,
      "outputs": [
        {
          "output_type": "stream",
          "text": [
            "<class 'pandas.core.frame.DataFrame'>\n",
            "RangeIndex: 400 entries, 0 to 399\n",
            "Data columns (total 5 columns):\n",
            " #   Column           Non-Null Count  Dtype \n",
            "---  ------           --------------  ----- \n",
            " 0   User ID          400 non-null    int64 \n",
            " 1   Gender           400 non-null    object\n",
            " 2   Age              400 non-null    int64 \n",
            " 3   EstimatedSalary  400 non-null    int64 \n",
            " 4   Purchased        400 non-null    int64 \n",
            "dtypes: int64(4), object(1)\n",
            "memory usage: 15.8+ KB\n",
            "alhamdulillah, gaada missing value guys\n",
            "akurasi model reglog : \n"
          ],
          "name": "stdout"
        },
        {
          "output_type": "execute_result",
          "data": {
            "text/plain": [
              "0.825"
            ]
          },
          "metadata": {
            "tags": []
          },
          "execution_count": 50
        }
      ]
    },
    {
      "cell_type": "markdown",
      "metadata": {
        "id": "UzO6d-k31dls"
      },
      "source": [
        "# **6. Latihan Clustering K-Means**"
      ]
    },
    {
      "cell_type": "code",
      "metadata": {
        "colab": {
          "base_uri": "https://localhost:8080/",
          "height": 630
        },
        "id": "WqM6VW9k1ize",
        "outputId": "14d68d35-7705-43ea-df0b-c12926fbeb4c"
      },
      "source": [
        "import pandas as pd\n",
        "\n",
        "df = pd.read_csv(\"/content/Mall_Customers.csv\")\n",
        "\n",
        "#ganti nama kolom\n",
        "df = df.rename(columns={'Gender': 'gender', 'Age': 'age',\n",
        "                        'Annual Income (k$)': 'annual_income',\n",
        "                        'Spending Score (1-100)': 'spending_score'})\n",
        "\n",
        "#ganti variabel kategorik di gender dengan variabel numerik\n",
        "df[\"gender\"].replace([\"Female\", \"Male\"], [0, 1], inplace = True)\n",
        "\n",
        "#hilangkan kolom customer ID dan gender\n",
        "x = df.drop(columns=[\"CustomerID\", \"gender\"], axis=1)\n",
        "df.head()\n",
        "\n",
        "#import KMeans dengan nilai inertia dari nilai K dari 1 sampai 11\n",
        "#FYI inertia itu jumlah dari seluruh kuadrat jarak sampel2nya ke pusat kluster terdekat\n",
        "from sklearn.cluster import KMeans\n",
        "clusters = []\n",
        "for i in range(1, 11):\n",
        "  km = KMeans(n_clusters = i).fit(x) #compute K-Means clustering\n",
        "  clusters.append(km.inertia_)\n",
        "\n",
        "#buat plot\n",
        "import matplotlib.pyplot as plt\n",
        "import seaborn as sns\n",
        "fig, ax = plt.subplots(figsize = (8, 4))\n",
        "sns.lineplot(x=list(range(1, 11)), y = clusters, ax = ax)\n",
        "ax.set_xlabel(\"Clusters\")\n",
        "ax.set_ylabel(\"Inertia\")\n",
        "ax.set_title(\"Cari Elbow\")\n",
        "\n",
        "#Didapat K nya adalah 5. KMeans dilatih kembali dengan K = 5\n",
        "km5 = KMeans(n_clusters = 5).fit(x)\n",
        "\n",
        "# menambahkan kolom label pada dataset\n",
        "x['Labels'] = km5.labels_\n",
        "\n",
        "# membuat plot KMeans dengan 5 klaster\n",
        "plt.figure(figsize=(8,4))\n",
        "sns.scatterplot(x['annual_income'], x['spending_score'], hue=x['Labels'],\n",
        "                palette=sns.color_palette('hls', 5))\n",
        "plt.title('KMeans dengan 5 Cluster')\n",
        "plt.show()"
      ],
      "execution_count": null,
      "outputs": [
        {
          "output_type": "stream",
          "text": [
            "/usr/local/lib/python3.7/dist-packages/seaborn/_decorators.py:43: FutureWarning: Pass the following variables as keyword args: x, y. From version 0.12, the only valid positional argument will be `data`, and passing other arguments without an explicit keyword will result in an error or misinterpretation.\n",
            "  FutureWarning\n"
          ],
          "name": "stderr"
        },
        {
          "output_type": "display_data",
          "data": {
            "image/png": "[encoded data removed]",
            "text/plain": [
              "<Figure size 576x288 with 1 Axes>"
            ]
          },
          "metadata": {
            "tags": [],
            "needs_background": "light"
          }
        },
        {
          "output_type": "display_data",
          "data": {
            "image/png": "[encoded data removed]",
            "text/plain": [
              "<Figure size 576x288 with 1 Axes>"
            ]
          },
          "metadata": {
            "tags": [],
            "needs_background": "light"
          }
        }
      ]
    },
    {
      "cell_type": "markdown",
      "metadata": {
        "id": "UbSxB7bA4_Qk"
      },
      "source": [
        "# **7. Latihan PCA dengan library SKLearn**"
      ]
    },
    {
      "cell_type": "code",
      "metadata": {
        "colab": {
          "base_uri": "https://localhost:8080/"
        },
        "id": "AqhE21ek5HVw",
        "outputId": "7c58d514-3f83-4dcf-87f0-86320d3cb802"
      },
      "source": [
        "#Import Dataset Iris\n",
        "\n",
        "from sklearn import datasets\n",
        "from sklearn.model_selection import train_test_split\n",
        "\n",
        "iris = datasets.load_iris()\n",
        "x = iris.data\n",
        "y = iris.target\n",
        "\n",
        "x_train, x_test, y_train, y_test = train_test_split(x, y, test_size = 0.2, random_state = 1)\n",
        "\n",
        "#Gunakan model Decision Tree untuk lihat akurasi tanpa PCA\n",
        "from sklearn import tree\n",
        "decision_tree = tree.DecisionTreeClassifier()\n",
        "model_pertama = decision_tree.fit(x_train, y_train)\n",
        "model_pertama.score(x_test, y_test)\n",
        "\n",
        "#Kemudian gunakan model PCA untuk melihat variance dari setiap atribut\n",
        "from sklearn.decomposition import PCA\n",
        "\n",
        "#Membuat PCA dengan 4 principal component karena Iris dataset punya 4 atribut (SepalWidth, SepalLength, PetalWidth, PetalLength)\n",
        "pca = PCA(n_components = 4)\n",
        "\n",
        "#Mengaplikasikan PCA pada dataset x_train, keluarannya adalah x_train baru yang sudah di apply dimensionality reduction\n",
        "pca_attributes = pca.fit_transform(x_train)\n",
        "\n",
        "#cek variance dari setiap atrribute\n",
        "pca.explained_variance_ratio_"
      ],
      "execution_count": null,
      "outputs": [
        {
          "output_type": "execute_result",
          "data": {
            "text/plain": [
              "array([0.92848323, 0.04764372, 0.01931005, 0.004563  ])"
            ]
          },
          "metadata": {
            "tags": []
          },
          "execution_count": 53
        }
      ]
    },
    {
      "cell_type": "markdown",
      "metadata": {
        "id": "TUs06-8UBj8s"
      },
      "source": [
        "Melihat dari variance sebelumnya kita bisa mengambil 2 principal component terbaik karena total variance nya adalah 0.928 + 0.047 = 0.975 yang sudah cukup tinggi. Lalu train lagi PCA dengan 2 principal component."
      ]
    },
    {
      "cell_type": "code",
      "metadata": {
        "colab": {
          "base_uri": "https://localhost:8080/"
        },
        "id": "9CpH5ZqBBy-a",
        "outputId": "a6eb1f27-bad2-4ecb-a18e-d00aae46c8a6"
      },
      "source": [
        "#PCA dengan 2 komponen utama\n",
        "from sklearn.decomposition import PCA\n",
        "\n",
        "pca2 = PCA(n_components = 2)\n",
        "x_train_pca = pca2.fit_transform(x_train)\n",
        "x_test_pca = pca2.fit_transform(x_test)\n",
        "\n",
        "#Uji model PCA x_train_pca (terbaru karena sudah di transform) & y_train dengan classifier\n",
        "from sklearn.tree import DecisionTreeClassifier\n",
        "decision_tree = DecisionTreeClassifier()\n",
        "model2 = decision_tree.fit(x_train_pca, y_train)\n",
        "model2.score(x_test_pca, y_test)\n"
      ],
      "execution_count": null,
      "outputs": [
        {
          "output_type": "execute_result",
          "data": {
            "text/plain": [
              "0.9333333333333333"
            ]
          },
          "metadata": {
            "tags": []
          },
          "execution_count": 54
        }
      ]
    },
    {
      "cell_type": "markdown",
      "metadata": {
        "id": "cUxELn9pEAT4"
      },
      "source": [
        "Dari percobaan di atas bisa kita lihat bahwa dengan hanya 2 principal component atau 2 atribut saja model masih memiliki akurasi yang tinggi. Dengan principal component kamu bisa mengurangi atribut yang kurang signifikan dalam prediksi dan mempercepat waktu pelatihan sebuah model machine learning."
      ]
    },
    {
      "cell_type": "markdown",
      "metadata": {
        "id": "cxhhS8fVK7zT"
      },
      "source": [
        "# **8. Latihan SKLearn SVM (Support Vector Machine)**"
      ]
    },
    {
      "cell_type": "code",
      "metadata": {
        "colab": {
          "base_uri": "https://localhost:8080/",
          "height": 225
        },
        "id": "tEo0CDB_LBTF",
        "outputId": "f9ea7f7a-6b8f-4613-fe93-0d0896842250"
      },
      "source": [
        "import pandas as pd\n",
        "\n",
        "df = pd.read_csv(\"/content/diabetes.csv\")\n",
        "\n",
        "#memisahkan atribut pada dataset dan menyimpan dalam sebuat variabel\n",
        "#keterangan: atribut x = 8, y = 1 (kolom \"Outcome\", penentu diabetes/tidaknya)\n",
        "x = df[df.columns[:8]]\n",
        "y = df['Outcome']\n",
        "\n",
        "\n",
        "#menyamakan nilai kolom Glucose & DiabetesPedigreeFunction dengan standarisasi StandardCaler\n",
        "from sklearn.preprocessing import StandardScaler\n",
        "scaler = StandardScaler()\n",
        "scaler.fit(x)\n",
        "X = scaler.transform(x)\n",
        "\n",
        "#pisahkan data train dan testing\n",
        "from sklearn.model_selection import train_test_split\n",
        "x_train, x_test, y_train, y_test = train_test_split(X, y, test_size = 0.33, random_state = 42)\n",
        "\n",
        "#Buat objek SVM lalu panggil fungsi fit untuk melatih model\n",
        "from sklearn.svm import SVC\n",
        "clf = SVC()\n",
        "clf.fit(x_train, y_train)\n",
        "\n",
        "#menampilkan score akurasi\n",
        "clf.score(x_test, y_test)\n",
        "df.head()"
      ],
      "execution_count": null,
      "outputs": [
        {
          "output_type": "execute_result",
          "data": {
            "text/html": [
              "<div>\n",
              "<style scoped>\n",
              "    .dataframe tbody tr th:only-of-type {\n",
              "        vertical-align: middle;\n",
              "    }\n",
              "\n",
              "    .dataframe tbody tr th {\n",
              "        vertical-align: top;\n",
              "    }\n",
              "\n",
              "    .dataframe thead th {\n",
              "        text-align: right;\n",
              "    }\n",
              "</style>\n",
              "<table border=\"1\" class=\"dataframe\">\n",
              "  <thead>\n",
              "    <tr style=\"text-align: right;\">\n",
              "      <th></th>\n",
              "      <th>Pregnancies</th>\n",
              "      <th>Glucose</th>\n",
              "      <th>BloodPressure</th>\n",
              "      <th>SkinThickness</th>\n",
              "      <th>Insulin</th>\n",
              "      <th>BMI</th>\n",
              "      <th>DiabetesPedigreeFunction</th>\n",
              "      <th>Age</th>\n",
              "      <th>Outcome</th>\n",
              "    </tr>\n",
              "  </thead>\n",
              "  <tbody>\n",
              "    <tr>\n",
              "      <th>0</th>\n",
              "      <td>6</td>\n",
              "      <td>148</td>\n",
              "      <td>72</td>\n",
              "      <td>35</td>\n",
              "      <td>0</td>\n",
              "      <td>33.6</td>\n",
              "      <td>0.627</td>\n",
              "      <td>50</td>\n",
              "      <td>1</td>\n",
              "    </tr>\n",
              "    <tr>\n",
              "      <th>1</th>\n",
              "      <td>1</td>\n",
              "      <td>85</td>\n",
              "      <td>66</td>\n",
              "      <td>29</td>\n",
              "      <td>0</td>\n",
              "      <td>26.6</td>\n",
              "      <td>0.351</td>\n",
              "      <td>31</td>\n",
              "      <td>0</td>\n",
              "    </tr>\n",
              "    <tr>\n",
              "      <th>2</th>\n",
              "      <td>8</td>\n",
              "      <td>183</td>\n",
              "      <td>64</td>\n",
              "      <td>0</td>\n",
              "      <td>0</td>\n",
              "      <td>23.3</td>\n",
              "      <td>0.672</td>\n",
              "      <td>32</td>\n",
              "      <td>1</td>\n",
              "    </tr>\n",
              "    <tr>\n",
              "      <th>3</th>\n",
              "      <td>1</td>\n",
              "      <td>89</td>\n",
              "      <td>66</td>\n",
              "      <td>23</td>\n",
              "      <td>94</td>\n",
              "      <td>28.1</td>\n",
              "      <td>0.167</td>\n",
              "      <td>21</td>\n",
              "      <td>0</td>\n",
              "    </tr>\n",
              "    <tr>\n",
              "      <th>4</th>\n",
              "      <td>0</td>\n",
              "      <td>137</td>\n",
              "      <td>40</td>\n",
              "      <td>35</td>\n",
              "      <td>168</td>\n",
              "      <td>43.1</td>\n",
              "      <td>2.288</td>\n",
              "      <td>33</td>\n",
              "      <td>1</td>\n",
              "    </tr>\n",
              "  </tbody>\n",
              "</table>\n",
              "</div>"
            ],
            "text/plain": [
              "   Pregnancies  Glucose  BloodPressure  ...  DiabetesPedigreeFunction  Age  Outcome\n",
              "0            6      148             72  ...                     0.627   50        1\n",
              "1            1       85             66  ...                     0.351   31        0\n",
              "2            8      183             64  ...                     0.672   32        1\n",
              "3            1       89             66  ...                     0.167   21        0\n",
              "4            0      137             40  ...                     2.288   33        1\n",
              "\n",
              "[5 rows x 9 columns]"
            ]
          },
          "metadata": {
            "tags": []
          },
          "execution_count": 7
        }
      ]
    },
    {
      "cell_type": "markdown",
      "metadata": {
        "id": "aD07m41Lnqjc"
      },
      "source": [
        "# **9. Latihan SVM Support Vector Regression**"
      ]
    },
    {
      "cell_type": "code",
      "metadata": {
        "colab": {
          "base_uri": "https://localhost:8080/",
          "height": 339
        },
        "id": "cjMRRvWxnuso",
        "outputId": "56cdd09b-40ec-4002-91ce-4e58666f7651"
      },
      "source": [
        "import pandas as pd\n",
        "\n",
        "df = pd.read_csv(\"/content/Salary_Data.csv\")\n",
        "x = df[\"YearsExperience\"]\n",
        "y = df[\"Salary\"]\n",
        "\n",
        "#Ubah bentuk atribut\n",
        "import numpy as np\n",
        "x = x[:, np.newaxis]\n",
        "\n",
        "#Membangun model dengan parameter C, gamma, dan kernel\n",
        "from sklearn.svm import SVR\n",
        "model = SVR(C = 1000, gamma = 0.05, kernel = \"rbf\")\n",
        "\n",
        "#melatih model dengan fungsi fit()\n",
        "model.fit(x, y)\n",
        "\n",
        "#Buat scatter plot untuk liat model SVR\n",
        "import matplotlib.pyplot as plt\n",
        "\n",
        "#Visualisasi model\n",
        "plt.scatter(x, y)\n",
        "plt.plot(x, model.predict(x))"
      ],
      "execution_count": null,
      "outputs": [
        {
          "output_type": "stream",
          "text": [
            "/usr/local/lib/python3.7/dist-packages/ipykernel_launcher.py:9: FutureWarning: Support for multi-dimensional indexing (e.g. `obj[:, None]`) is deprecated and will be removed in a future version.  Convert to a numpy array before indexing instead.\n",
            "  if __name__ == '__main__':\n"
          ],
          "name": "stderr"
        },
        {
          "output_type": "execute_result",
          "data": {
            "text/plain": [
              "[<matplotlib.lines.Line2D at 0x7f3acadce310>]"
            ]
          },
          "metadata": {
            "tags": []
          },
          "execution_count": 8
        },
        {
          "output_type": "display_data",
          "data": {
            "image/png": "[encoded data removed]",
            "text/plain": [
              "<Figure size 432x288 with 1 Axes>"
            ]
          },
          "metadata": {
            "tags": [],
            "needs_background": "light"
          }
        }
      ]
    },
    {
      "cell_type": "markdown",
      "metadata": {
        "id": "nSdhQsWOsxVl"
      },
      "source": [
        "Model belum dapat menyesuaikan data dengan baik. Maka akan diuji beberapa nilai parameter bersamaan dengan teknik Grid Search"
      ]
    },
    {
      "cell_type": "markdown",
      "metadata": {
        "id": "-YOCXLAJtAtn"
      },
      "source": [
        "# **10. Latihan SKLearn Teknik Grid Search**"
      ]
    },
    {
      "cell_type": "code",
      "metadata": {
        "colab": {
          "base_uri": "https://localhost:8080/",
          "height": 339
        },
        "id": "IECx605utE-W",
        "outputId": "4a78f654-0a6a-41c2-ded8-31426e3f3760"
      },
      "source": [
        "import pandas as pd\n",
        "\n",
        "df = pd.read_csv(\"/content/Salary_Data.csv\")\n",
        "x = df[\"YearsExperience\"]\n",
        "y = df[\"Salary\"]\n",
        "\n",
        "#ubah bentuk dimensi array dari atribut\n",
        "import numpy as np\n",
        "x = x[:,np.newaxis]\n",
        "\n",
        "from sklearn.model_selection import GridSearchCV\n",
        "from sklearn.svm import SVR\n",
        "\n",
        "#membangun model dengan parameter C, gamma, dan kernel\n",
        "model = SVR()\n",
        "parameters = {\"kernel\" : [\"rbf\"], \"C\" : [1000, 10000, 100000], \"gamma\" : [0.5, 0.05, 0.005]}\n",
        "grid_search = GridSearchCV(model, parameters)\n",
        "\n",
        "#latih model dengan fungsi fit\n",
        "grid_search.fit(x, y)\n",
        "grid_search.best_params_\n",
        "\n",
        "#Membuat model SVM baru dengan parameter terbaik keluaran gridsearch, yaitu C : 100000, gamma : 0.005, kernel : \"rbf\"\n",
        "model_baru = SVR(C = 100000, gamma = 0.005, kernel = \"rbf\")\n",
        "model_baru.fit(x, y)\n",
        "\n",
        "import matplotlib.pyplot as plt\n",
        "plt.scatter(x, y)\n",
        "plt.plot(x, model_baru.predict(x))"
      ],
      "execution_count": null,
      "outputs": [
        {
          "output_type": "stream",
          "text": [
            "/usr/local/lib/python3.7/dist-packages/ipykernel_launcher.py:9: FutureWarning: Support for multi-dimensional indexing (e.g. `obj[:, None]`) is deprecated and will be removed in a future version.  Convert to a numpy array before indexing instead.\n",
            "  if __name__ == '__main__':\n"
          ],
          "name": "stderr"
        },
        {
          "output_type": "execute_result",
          "data": {
            "text/plain": [
              "[<matplotlib.lines.Line2D at 0x7fe528d24410>]"
            ]
          },
          "metadata": {
            "tags": []
          },
          "execution_count": 11
        },
        {
          "output_type": "display_data",
          "data": {
            "image/png": "[encoded data removed]",
            "text/plain": [
              "<Figure size 432x288 with 1 Axes>"
            ]
          },
          "metadata": {
            "tags": [],
            "needs_background": "light"
          }
        }
      ]
    }
  ]
}